{
 "cells": [
  {
   "cell_type": "markdown",
   "id": "37a7514f-dae4-4a18-8b7c-a5a958ef5c40",
   "metadata": {},
   "source": [
    "# Get Account Properties"
   ]
  },
  {
   "cell_type": "code",
   "execution_count": null,
   "id": "50bb9797-8813-4279-bd8a-467af9258bdc",
   "metadata": {},
   "outputs": [],
   "source": [
    "import domojupyter as domo\n",
    "\n",
    "account_properties = domo.get_account_property_keys('account_name')\n",
    "print(account_properties)"
   ]
  },
  {
   "cell_type": "markdown",
   "id": "527a9da4-f01e-40fb-ba0e-4bcfe7e7e4d5",
   "metadata": {},
   "source": [
    "# Get value of a Account Property"
   ]
  },
  {
   "cell_type": "code",
   "execution_count": null,
   "id": "1c5d82e7-5819-4a17-b3d5-c8da514d7969",
   "metadata": {},
   "outputs": [],
   "source": [
    "import domojupyter as domo\n",
    "\n",
    "account_property_value = domo.get_account_property_value('account_name', 'property_name')\n",
    "print(account_property_value)"
   ]
  }
 ],
 "metadata": {
  "kernelspec": {
   "display_name": "Python 3.9",
   "language": "python",
   "name": "python_3_9"
  },
  "language_info": {
   "codemirror_mode": {
    "name": "ipython",
    "version": 3
   },
   "file_extension": ".py",
   "mimetype": "text/x-python",
   "name": "python",
   "nbconvert_exporter": "python",
   "pygments_lexer": "ipython3",
   "version": "3.9.13"
  }
 },
 "nbformat": 4,
 "nbformat_minor": 5
}
