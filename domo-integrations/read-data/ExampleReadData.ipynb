{
 "cells": [
  {
   "cell_type": "code",
   "execution_count": null,
   "id": "cb19c164-447f-46e5-8c97-86642f6dafa2",
   "metadata": {},
   "outputs": [],
   "source": [
    "import domojupyter as domo\n",
    "input = domo.read_dataframe('dataset_name', query='SELECT * FROM table')"
   ]
  }
 ],
 "metadata": {
  "kernelspec": {
   "display_name": "Python 3.9",
   "language": "python",
   "name": "python_3_9"
  },
  "language_info": {
   "codemirror_mode": {
    "name": "ipython",
    "version": 3
   },
   "file_extension": ".py",
   "mimetype": "text/x-python",
   "name": "python",
   "nbconvert_exporter": "python",
   "pygments_lexer": "ipython3",
   "version": "3.9.13"
  }
 },
 "nbformat": 4,
 "nbformat_minor": 5
}
