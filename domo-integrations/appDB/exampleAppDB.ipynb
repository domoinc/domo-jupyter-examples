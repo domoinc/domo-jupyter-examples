{
 "cells": [
  {
   "cell_type": "markdown",
   "id": "8ffb18af-1b76-4c1a-ac1c-9539b38d30d1",
   "metadata": {},
   "source": [
    "# Get documents in a collection"
   ]
  },
  {
   "cell_type": "code",
   "execution_count": null,
   "id": "adf66f12-23ee-496d-88c9-feae22171356",
   "metadata": {},
   "outputs": [],
   "source": [
    "import domojupyter.app_db as app_db\n",
    "documents = app_db.get_documents('collection_name',0,50)\n",
    "print(documents)"
   ]
  },
  {
   "cell_type": "markdown",
   "id": "f159c5b8-0c6c-410a-9680-eba365a7d188",
   "metadata": {},
   "source": [
    "# Get document by id"
   ]
  },
  {
   "cell_type": "code",
   "execution_count": null,
   "id": "bbecabad-8575-4349-b20a-8ec80a36b6bf",
   "metadata": {},
   "outputs": [],
   "source": [
    "import domojupyter.app_db as app_db\n",
    "document_id = \"id\"\n",
    "document = app_db.get_document('collection_name', document_id)\n",
    "print(document)"
   ]
  },
  {
   "cell_type": "markdown",
   "id": "0b5cef95-e79d-4cd1-aa15-c14a7d0c4ce1",
   "metadata": {},
   "source": [
    "# Update a single document"
   ]
  },
  {
   "cell_type": "code",
   "execution_count": null,
   "id": "62785330-2ff5-4e8b-83a2-c20b5551dead",
   "metadata": {},
   "outputs": [],
   "source": [
    "import domojupyter.app_db as app_db\n",
    "document_id = \"id\"\n",
    "document = app_db.get_document('collection_name', document_id)\n",
    "# make updates to your document\n",
    "# document['name'] = 'New Name'\n",
    "response = app_db.update_document('collection_name', document)\n",
    "print(response)"
   ]
  },
  {
   "cell_type": "markdown",
   "id": "177470b0-ce43-4913-bc4c-ab1b1c759f6e",
   "metadata": {},
   "source": [
    "# Update a list of documents"
   ]
  },
  {
   "cell_type": "code",
   "execution_count": null,
   "id": "dc36e5d6-a4c1-4765-b6e2-b173be326ab6",
   "metadata": {},
   "outputs": [],
   "source": [
    "import domojupyter.app_db as app_db\n",
    "documents = app_db.get_documents('collection_name',0,50)\n",
    "for document in updatedDocuments:\n",
    "    # Update to make to documents\n",
    "response = app_db.update_documents('collection_name', documents)\n",
    "print(response)"
   ]
  },
  {
   "cell_type": "markdown",
   "id": "a9d261ad-a99d-4f9c-aa00-05249c9e5ba2",
   "metadata": {},
   "source": [
    "# Delete a single document"
   ]
  },
  {
   "cell_type": "code",
   "execution_count": null,
   "id": "4d635cd6-a8ae-447a-b471-9b3a1de54ead",
   "metadata": {},
   "outputs": [],
   "source": [
    "import domojupyter.app_db as app_db\n",
    "document_id = \"id\"\n",
    "response = app_db.delete_document('collection_name', document_id)\n",
    "print(response)"
   ]
  },
  {
   "cell_type": "markdown",
   "id": "b49df770-d113-402f-9d56-fd694ef76d8a",
   "metadata": {},
   "source": [
    "# Delete a list of documents"
   ]
  },
  {
   "cell_type": "code",
   "execution_count": null,
   "id": "f31fb426-72e6-42ee-88eb-b6e3e5ae8ab5",
   "metadata": {},
   "outputs": [],
   "source": [
    "import domojupyter.app_db as app_db\n",
    "documentIdsToDelete = [\"id1\",\"id2\"]\n",
    "response = app_db.delete_documents('collection_name', documentIdsToDelete)\n",
    "print(response)"
   ]
  },
  {
   "cell_type": "markdown",
   "id": "8219b3ca-f7a1-484f-b81f-e54b179195ec",
   "metadata": {},
   "source": [
    "# Create a document"
   ]
  },
  {
   "cell_type": "code",
   "execution_count": null,
   "id": "6d387aaa-fd04-4c50-a6b8-32d92aabcaae",
   "metadata": {},
   "outputs": [],
   "source": [
    "import domojupyter.app_db as app_db\n",
    "newDocument = {}\n",
    "response = app_db.create_document('collection_name', newDocument)\n",
    "print(response)"
   ]
  },
  {
   "cell_type": "markdown",
   "id": "7bef7f43-aad8-42e2-8129-62001336bcdd",
   "metadata": {},
   "source": [
    "# Create a list of documents"
   ]
  },
  {
   "cell_type": "code",
   "execution_count": null,
   "id": "e6bdf4d2-e6b6-441b-a828-75cce2f2c293",
   "metadata": {},
   "outputs": [],
   "source": [
    "import domojupyter.app_db as app_db\n",
    "newDocuments = [] # list of documents\n",
    "response = app_db.create_documents('collection_name', newDocuments)\n",
    "print(response)"
   ]
  }
 ],
 "metadata": {
  "kernelspec": {
   "display_name": "Python 3.9",
   "language": "python",
   "name": "python_3_9"
  },
  "language_info": {
   "codemirror_mode": {
    "name": "ipython",
    "version": 3
   },
   "file_extension": ".py",
   "mimetype": "text/x-python",
   "name": "python",
   "nbconvert_exporter": "python",
   "pygments_lexer": "ipython3",
   "version": "3.9.13"
  }
 },
 "nbformat": 4,
 "nbformat_minor": 5
}
