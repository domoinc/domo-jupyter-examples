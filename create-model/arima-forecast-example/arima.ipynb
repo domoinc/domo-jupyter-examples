{
 "cells": [
  {
   "cell_type": "markdown",
   "id": "553ac382-d8a3-48ef-a97c-ef62ddba9764",
   "metadata": {
    "tags": []
   },
   "source": [
    "# Install Dependencies"
   ]
  },
  {
   "cell_type": "code",
   "execution_count": null,
   "id": "5c32ae67-2d7f-4974-ac78-aef0c615ec49",
   "metadata": {
    "collapsed": true,
    "jupyter": {
     "outputs_hidden": true
    },
    "tags": []
   },
   "outputs": [],
   "source": [
    "!pip install sktime\n",
    "!pip install pmdarima\n",
    "!pip install seaborn"
   ]
  },
  {
   "cell_type": "markdown",
   "id": "0738f567-493d-4806-b5c0-991939360b9a",
   "metadata": {},
   "source": [
    "# Import Libraries"
   ]
  },
  {
   "cell_type": "code",
   "execution_count": 2,
   "id": "08247e6a-660c-4e9b-8a03-c46ebfd3a1f3",
   "metadata": {
    "jupyter": {
     "source_hidden": true
    },
    "tags": []
   },
   "outputs": [],
   "source": [
    "import domojupyter as domo\n",
    "import numpy as np\n",
    "import pandas as pd\n",
    "import pickle\n",
    "from datetime import datetime\n",
    "from sktime.datasets import load_airline\n",
    "from sktime.utils.plotting import plot_series\n",
    "from sktime.forecasting.ets import AutoETS\n",
    "from sktime.forecasting.base import ForecastingHorizon\n",
    "from sktime.forecasting.arima import AutoARIMA\n",
    "from sktime.forecasting.naive import NaiveForecaster\n",
    "from sktime.forecasting.model_selection import temporal_train_test_split\n",
    "from sktime.performance_metrics.forecasting import MeanAbsolutePercentageError\n",
    "from sklearn.ensemble import GradientBoostingRegressor\n",
    "from sklearn.metrics import mean_absolute_percentage_error\n",
    "from domojupyter.ai import Metric\n",
    "from domojupyter.ai import ModelTrainingInformation\n",
    "\n",
    "smape = MeanAbsolutePercentageError(symmetric=True)"
   ]
  },
  {
   "cell_type": "markdown",
   "id": "285b4a70-d90f-482b-9cd7-4abece59a7ff",
   "metadata": {},
   "source": [
    "# Train Model"
   ]
  },
  {
   "cell_type": "code",
   "execution_count": null,
   "id": "b5b14c7d-1864-4846-99dc-1193fd2b2940",
   "metadata": {
    "collapsed": true,
    "jupyter": {
     "outputs_hidden": true
    },
    "tags": []
   },
   "outputs": [],
   "source": [
    "# Read data into the notebook\n",
    "df = domo.read_dataframe('Home Sales', query='SELECT * FROM table')\n",
    "df = df[df['Metro Area'] == 'All']\n",
    "\n",
    "#Prep Data\n",
    "df.index = df['DATE']\n",
    "df.index.freq = df.index.inferred_freq\n",
    "\n",
    "#Prep Outcome\n",
    "fh = np.arange(1, 25)\n",
    "y = df['Home Sales']\n",
    "\n",
    "#Split Data\n",
    "y_train, y_test = temporal_train_test_split(y, fh=fh)\n",
    "\n",
    "#Train Model\n",
    "#seasonality is 12 to inticate monthly data\n",
    "forecaster = AutoARIMA(sp=12, suppress_warnings=True)\n",
    "\n",
    "#Trains and Score data for test\n",
    "forecaster.fit(y_train)\n",
    "y_pred = forecaster.predict(fh)\n",
    "plot_series(y, y_pred, y_test, labels=[\"y\", \"y_pred\", \"y_test\"])"
   ]
  },
  {
   "cell_type": "code",
   "execution_count": 12,
   "id": "54042dd9-0a32-4192-a838-4da1e1bdc605",
   "metadata": {
    "tags": []
   },
   "outputs": [],
   "source": [
    "#Create a /models folder at root level\n",
    "import os\n",
    "path = \"models\"\n",
    "# Check whether the specified path exists or not\n",
    "isExist = os.path.exists(path)\n",
    "if not isExist:\n",
    "\n",
    "   # Create a new directory because it does not exist\n",
    "   os.makedirs(path)\n",
    "   print(\"The new directory is created!\")\n",
    "\n",
    "#Save model to pickle file\n",
    "with open('models/arima.mdl', 'wb') as f:\n",
    "    pickle.dump(forecaster, f)"
   ]
  },
  {
   "cell_type": "markdown",
   "id": "ec1657d5-e38b-4a63-9077-cf53ad02af9e",
   "metadata": {},
   "source": [
    "# Model Metrics, Hyperparameters"
   ]
  },
  {
   "cell_type": "code",
   "execution_count": 13,
   "id": "f8c99232-8aab-45d0-83fd-6dba3f993abf",
   "metadata": {
    "tags": []
   },
   "outputs": [],
   "source": [
    "#Calculate model metrics\n",
    "metrics = {\n",
    "    \"validation:mape\": smape(y_test, y_pred)\n",
    "}\n",
    "now = datetime.now()\n",
    "\n",
    "#convert metrics to a Domo Class\n",
    "domo_metrics = {k: Metric(k, v, None, now) for (k,v) in metrics.items()}\n",
    "\n",
    "hyperparameters = {}\n",
    "\n",
    "#Configure metrics, hyperparameters\n",
    "trainingInformation = ModelTrainingInformation(metrics=domo_metrics, hyperparameters=hyperparameters, algorithm=\"AutoARIMA\")"
   ]
  },
  {
   "cell_type": "markdown",
   "id": "364aac84-d19c-49e8-a863-192fa77d19e6",
   "metadata": {},
   "source": [
    "# Define input/output schema"
   ]
  },
  {
   "cell_type": "code",
   "execution_count": null,
   "id": "483682c8-999b-4ea4-966a-3639a388be7e",
   "metadata": {
    "tags": []
   },
   "outputs": [],
   "source": [
    "y_train.head()"
   ]
  },
  {
   "cell_type": "code",
   "execution_count": null,
   "id": "64366524-1d6e-4a0e-a597-78bb75975dc4",
   "metadata": {
    "tags": []
   },
   "outputs": [],
   "source": [
    "# Convert input to dataframe\n",
    "y_train_frame = y_train.to_frame()\n",
    "y_train_frame.reset_index(inplace=True)\n",
    "y_train_frame = y_train_frame.rename(columns = {'DATE':'Date'})\n",
    "y_train_frame['Date'] = pd.to_datetime(y_train_frame['Date']).dt.date\n",
    "y_train_frame.dtypes\n",
    "\n",
    "#sample dataframe\n"
   ]
  },
  {
   "cell_type": "code",
   "execution_count": null,
   "id": "e1f31e50-70b4-4a00-b43d-3be5407b47dd",
   "metadata": {
    "tags": []
   },
   "outputs": [],
   "source": [
    "y_pred.head()"
   ]
  },
  {
   "cell_type": "code",
   "execution_count": null,
   "id": "6d684cb0-0ec9-4f93-a8c4-e5097bdaf44a",
   "metadata": {
    "tags": []
   },
   "outputs": [],
   "source": [
    "# Convert output to dataframe\n",
    "y_pred.head()\n",
    "y_pred_frame = y_pred.to_frame()\n",
    "y_pred_frame.reset_index(inplace=True)\n",
    "y_pred_frame = y_pred_frame.rename(columns = {'index':'Date OP', 'Home Sales':'Home Sales OP'})\n",
    "y_pred_frame['Date OP'] = pd.to_datetime(y_pred_frame['Date OP']).dt.date\n",
    "y_pred_frame.dtypes"
   ]
  },
  {
   "cell_type": "markdown",
   "id": "4a4d2bb5-7018-4d08-b164-b26375d8d43a",
   "metadata": {},
   "source": [
    "# Define input/output schema"
   ]
  },
  {
   "cell_type": "code",
   "execution_count": null,
   "id": "89c68f8e",
   "metadata": {
    "collapsed": true,
    "jupyter": {
     "outputs_hidden": true
    },
    "tags": []
   },
   "outputs": [],
   "source": [
    "# Define input/ output schema\n",
    "\n",
    "from domojupyter.ai import CSVModelIOConfiguration, SchemaObject\n",
    "from domojupyter.ai import ModelTask, ModelTaskType\n",
    "from domojupyter.ai import ModelIOConfiguration\n",
    "\n",
    "io = CSVModelIOConfiguration(data_frame=y_train_frame)\n",
    "op = CSVModelIOConfiguration(data_frame=y_pred_frame)\n",
    "\n",
    "task = ModelTask(ModelTaskType.OTHER, input_config=io, output_config=op)\n",
    "task.to_json()"
   ]
  },
  {
   "cell_type": "markdown",
   "id": "d2ef5d0d-0496-4fda-a526-77ce4335c249",
   "metadata": {},
   "source": [
    "# Review forecast_arima.py file"
   ]
  },
  {
   "cell_type": "markdown",
   "id": "9831109b-c122-4af3-a331-22e3c92111b6",
   "metadata": {},
   "source": [
    "# Test .py file"
   ]
  },
  {
   "cell_type": "code",
   "execution_count": null,
   "id": "781180b7-8e5e-44c4-8023-0224fff9dd94",
   "metadata": {
    "tags": []
   },
   "outputs": [],
   "source": [
    "%run forecast_arima.py\n",
    "\n",
    "import forecast_arima as model\n",
    "data = None\n",
    "result = model.EndpointHandler().invoke(data=None)\n",
    "result"
   ]
  },
  {
   "cell_type": "markdown",
   "id": "56621ea0-b85a-412a-a153-332d23871e3a",
   "metadata": {},
   "source": [
    "### Add your initials to the model name to differentiate the models\n",
    "### Ex. My model would be called 'VS | Home Sales - ETS'# Add Model to Domo.AI"
   ]
  },
  {
   "cell_type": "code",
   "execution_count": null,
   "id": "f2f19cf2-fbe1-48b7-b2ae-3a34de45d8e2",
   "metadata": {
    "tags": []
   },
   "outputs": [],
   "source": [
    "# When a model is created from a workspace for the very first time, it can take about 10 mins. \n",
    "# Snapshot Status will change to 'SUCCESS' when done\n",
    "\n",
    "import domojupyter.ai.model as ml\n",
    "ml.create_model(\"VS | Home Sales - ARIMA\", \"forecast_arima.py\", ['models/arima.mdl'], training= trainingInformation, tasks= [task])"
   ]
  },
  {
   "cell_type": "markdown",
   "id": "aa533125-db89-463b-b1dd-6b37aca88dad",
   "metadata": {},
   "source": [
    "# Start Endpoint"
   ]
  },
  {
   "cell_type": "markdown",
   "id": "a32f354c-03e6-48c2-b52b-ed4254c5805b",
   "metadata": {},
   "source": [
    "# Compare with ETS"
   ]
  }
 ],
 "metadata": {
  "kernelspec": {
   "display_name": "Python 3.9",
   "language": "python",
   "name": "python_3_9"
  },
  "language_info": {
   "codemirror_mode": {
    "name": "ipython",
    "version": 3
   },
   "file_extension": ".py",
   "mimetype": "text/x-python",
   "name": "python",
   "nbconvert_exporter": "python",
   "pygments_lexer": "ipython3",
   "version": "3.9.13"
  }
 },
 "nbformat": 4,
 "nbformat_minor": 5
}
