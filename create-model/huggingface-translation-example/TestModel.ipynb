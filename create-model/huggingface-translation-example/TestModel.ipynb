{
 "cells": [
  {
   "cell_type": "markdown",
   "id": "8883d62c-ba9d-4d24-938d-a908a56434ae",
   "metadata": {},
   "source": [
    "# Example of testing model"
   ]
  },
  {
   "cell_type": "code",
   "execution_count": 2,
   "id": "597090dd-0a82-4de3-b047-af3471836a3d",
   "metadata": {},
   "outputs": [],
   "source": [
    "# Execute invoke function from model.py\n",
    "import translation_model as model\n",
    "\n",
    "predicted_y = model.EndpointHandler().invoke('hello world', accept_header='text/csv', content_type_header='text/csv' )\n",
    "print(predicted_y)"
   ]
  }
 ],
 "metadata": {
  "kernelspec": {
   "display_name": "Python 3.9",
   "language": "python",
   "name": "python_3_9"
  },
  "language_info": {
   "codemirror_mode": {
    "name": "ipython",
    "version": 3
   },
   "file_extension": ".py",
   "mimetype": "text/x-python",
   "name": "python",
   "nbconvert_exporter": "python",
   "pygments_lexer": "ipython3",
   "version": "3.9.13"
  }
 },
 "nbformat": 4,
 "nbformat_minor": 5
}
