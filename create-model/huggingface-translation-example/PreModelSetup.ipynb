{
 "cells": [
  {
   "cell_type": "markdown",
   "id": "e1e3ff0f-5b2b-451f-9be2-0b3c3cee7fb1",
   "metadata": {},
   "source": [
    "# Load resources needed for the model\n",
    "* Install `pip install transformers` in terminal before running\n",
    "* Install `pip install torch` in terminal before running"
   ]
  },
  {
   "cell_type": "code",
   "execution_count": null,
   "id": "78087c49-1e6b-43ea-b220-2832482767c9",
   "metadata": {},
   "outputs": [],
   "source": [
    "from transformers import AutoTokenizer, AutoModelForSeq2SeqLM\n",
    "\n",
    "tokenizer = AutoTokenizer.from_pretrained(\"t5-base\")\n",
    "model = AutoModelForSeq2SeqLM.from_pretrained(\"t5-base\")\n",
    "model.save_pretrained(\"model-t5-base\")\n",
    "tokenizer.save_pretrained(\"tokenizer-t5-base\")"
   ]
  }
 ],
 "metadata": {
  "kernelspec": {
   "display_name": "Python 3.9",
   "language": "python",
   "name": "python_3_9"
  },
  "language_info": {
   "codemirror_mode": {
    "name": "ipython",
    "version": 3
   },
   "file_extension": ".py",
   "mimetype": "text/x-python",
   "name": "python",
   "nbconvert_exporter": "python",
   "pygments_lexer": "ipython3",
   "version": "3.9.13"
  }
 },
 "nbformat": 4,
 "nbformat_minor": 5
}
