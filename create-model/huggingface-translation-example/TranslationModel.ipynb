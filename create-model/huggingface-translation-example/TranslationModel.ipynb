{
 "cells": [
  {
   "cell_type": "markdown",
   "id": "304aab2c-32e0-4270-a9d3-aad2dd12530b",
   "metadata": {
    "tags": []
   },
   "source": [
    "# !Run `PreModelSetup.ipynb`before this"
   ]
  },
  {
   "cell_type": "markdown",
   "id": "1c38e19c-f7e9-48d1-a3e3-c474bedc46a4",
   "metadata": {
    "tags": []
   },
   "source": [
    "## This model was created using this hugging face model: https://huggingface.co/t5-base/blob/main/README.md#uses"
   ]
  },
  {
   "cell_type": "markdown",
   "id": "a504d266-a0fe-4503-a288-c08b98a5cb2c",
   "metadata": {
    "tags": []
   },
   "source": [
    "## Create hyperparameters and metric (blank for this model)"
   ]
  },
  {
   "cell_type": "code",
   "execution_count": 2,
   "id": "25f8ca38-4459-4a39-8d4c-9f3b97bd0137",
   "metadata": {},
   "outputs": [],
   "source": [
    "from domojupyter.ai import Metric\n",
    "from datetime import datetime\n",
    "import pandas as pd\n",
    "from io import StringIO\n",
    "\n",
    "hyperparameters = {}\n",
    "metrics = {}\n",
    "now = datetime.now()\n",
    "domo_metrics = {k: Metric(k, v, None, now) for (k,v) in metrics.items()}"
   ]
  },
  {
   "cell_type": "markdown",
   "id": "4247252b-48a2-4dae-acb8-d8189ad6f5ca",
   "metadata": {
    "tags": []
   },
   "source": [
    "## Create Task for model"
   ]
  },
  {
   "cell_type": "code",
   "execution_count": 3,
   "id": "2e6a463e-1492-4ab6-b08e-12d8577cc6bb",
   "metadata": {
    "tags": []
   },
   "outputs": [],
   "source": [
    "from domojupyter.ai import ModelTask, ModelTaskType\n",
    "from domojupyter.ai import CSVModelIOConfiguration\n",
    "\n",
    "input = pd.DataFrame(None, columns=[\"inputText\"])\n",
    "output = pd.DataFrame(None, columns=[\"outputText\"])\n",
    "\n",
    "input_config = CSVModelIOConfiguration(data_frame=input)\n",
    "output_config = CSVModelIOConfiguration(data_frame=output)\n",
    "task = ModelTask(ModelTaskType.OTHER, input_config=input_config, \n",
    "output_config=output_config)"
   ]
  },
  {
   "cell_type": "markdown",
   "id": "91c9cc39-710e-40d9-b7c9-04594fedac06",
   "metadata": {
    "tags": []
   },
   "source": [
    "## Create model"
   ]
  },
  {
   "cell_type": "code",
   "execution_count": 4,
   "id": "7781c774-4872-4cc3-9db1-5188b16915f3",
   "metadata": {
    "tags": []
   },
   "outputs": [],
   "source": [
    "from domojupyter.ai import ModelTrainingInformation\n",
    "import domojupyter.ai.model as ml\n",
    "\n",
    "model_name = \"NL Text Translation 10/27 v3\"\n",
    "entrypoint = \"translation_model.py\"\n",
    "extra_files = [\"model-t5-base\",\"tokenizer-t5-base\"]\n",
    "training = ModelTrainingInformation(metrics=domo_metrics, hyperparameters=hyperparameters, algorithm=\"Custom\")\n",
    "tasks = [task]\n",
    "\n",
    "ml.create_model(model_name, entrypoint, extra_files, training=training, tasks=tasks)"
   ]
  }
 ],
 "metadata": {
  "kernelspec": {
   "display_name": "Python 3.9",
   "language": "python",
   "name": "python_3_9"
  },
  "language_info": {
   "codemirror_mode": {
    "name": "ipython",
    "version": 3
   },
   "file_extension": ".py",
   "mimetype": "text/x-python",
   "name": "python",
   "nbconvert_exporter": "python",
   "pygments_lexer": "ipython3",
   "version": "3.9.13"
  }
 },
 "nbformat": 4,
 "nbformat_minor": 5
}
