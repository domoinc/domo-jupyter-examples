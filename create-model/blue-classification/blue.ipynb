{
    "cells": [
        {
            "cell_type": "markdown",
            "id": "56fb202a-7f3a-4044-94e4-c7dc4df3c5ad",
            "metadata": {},
            "source": [
                "# Blue Classification\n",
                "\n",
                "This notebook provides a look at the basic interface for creating a model in a Juptyer Workspace. We'll then upload it to Domo's Model Management interface where it can be deployed for real-time or batch inference.\n",
                "\n",
                "In order to keep it simple, we won't use Machine Learning to train a model in this notebook. Instead, given a list of colored shapes, we'll define a simple algorithm that will classify the shape as blue, or not blue. "
            ]
        },
        {
            "cell_type": "code",
            "execution_count": 1,
            "id": "751ecb89-ce5a-4b7b-b755-f2673056621f",
            "metadata": {
                "tags": []
            },
            "outputs": [],
            "source": [
                "import pandas as pd\n",
                "from io import StringIO"
            ]
        },
        {
            "cell_type": "code",
            "execution_count": 2,
            "id": "178262a8-0bf6-45a1-b518-99e046e977b9",
            "metadata": {
                "tags": []
            },
            "outputs": [
                {
                    "data": {
                        "text/html": [
                            "<div>\n",
                            "<style scoped>\n",
                            "    .dataframe tbody tr th:only-of-type {\n",
                            "        vertical-align: middle;\n",
                            "    }\n",
                            "\n",
                            "    .dataframe tbody tr th {\n",
                            "        vertical-align: top;\n",
                            "    }\n",
                            "\n",
                            "    .dataframe thead th {\n",
                            "        text-align: right;\n",
                            "    }\n",
                            "</style>\n",
                            "<table border=\"1\" class=\"dataframe\">\n",
                            "  <thead>\n",
                            "    <tr style=\"text-align: right;\">\n",
                            "      <th></th>\n",
                            "      <th>Shape</th>\n",
                            "      <th>Color</th>\n",
                            "      <th>Blue</th>\n",
                            "    </tr>\n",
                            "  </thead>\n",
                            "  <tbody>\n",
                            "    <tr>\n",
                            "      <th>0</th>\n",
                            "      <td>Circle</td>\n",
                            "      <td>Red</td>\n",
                            "      <td>0</td>\n",
                            "    </tr>\n",
                            "    <tr>\n",
                            "      <th>1</th>\n",
                            "      <td>Square</td>\n",
                            "      <td>Blue</td>\n",
                            "      <td>1</td>\n",
                            "    </tr>\n",
                            "    <tr>\n",
                            "      <th>2</th>\n",
                            "      <td>Oval</td>\n",
                            "      <td>Green</td>\n",
                            "      <td>0</td>\n",
                            "    </tr>\n",
                            "    <tr>\n",
                            "      <th>3</th>\n",
                            "      <td>Rectangle</td>\n",
                            "      <td>Orange</td>\n",
                            "      <td>0</td>\n",
                            "    </tr>\n",
                            "    <tr>\n",
                            "      <th>4</th>\n",
                            "      <td>Rectangle</td>\n",
                            "      <td>Pink</td>\n",
                            "      <td>0</td>\n",
                            "    </tr>\n",
                            "  </tbody>\n",
                            "</table>\n",
                            "</div>"
                        ],
                        "text/plain": [
                            "       Shape   Color  Blue\n",
                            "0     Circle     Red     0\n",
                            "1     Square    Blue     1\n",
                            "2       Oval   Green     0\n",
                            "3  Rectangle  Orange     0\n",
                            "4  Rectangle    Pink     0"
                        ]
                    },
                    "execution_count": 2,
                    "metadata": {},
                    "output_type": "execute_result"
                }
            ],
            "source": [
                "\n",
                "data = [['Circle', 'Red'], ['Square', 'Blue'], ['Oval', 'Green'], ['Rectangle', 'Orange'], ['Rectangle', 'Pink']]\n",
                "train_x = pd.DataFrame(data, columns=['Shape', 'Color'])\n",
                "\n",
                "# For each row in the training data, 1 if the Color is Blue, and 0 otherwise. This is the value that we want to predict.\n",
                "train_y = pd.DataFrame({'Blue': [0,1,0,0,0]})\n",
                "\n",
                "# View first few rows of data when joined\n",
                "train_x.join(train_y).head()"
            ]
        },
        {
            "cell_type": "markdown",
            "id": "a1ecac75-d923-46a1-b35f-c86c9a80282d",
            "metadata": {},
            "source": [
                "## Hyperparameters\n",
                "\n",
                "When leveraging machine learning to train the model, we want to keep track of the hyperparameters used to configure the training process. Although not used in this case, we'll set a couple of hyperparameters here as a reference, and show how they can be included as metadata with the model in the Model Management interface in a few steps."
            ]
        },
        {
            "cell_type": "code",
            "execution_count": 3,
            "id": "58187409-bb05-45fb-aa57-1fc9c00a5104",
            "metadata": {
                "tags": []
            },
            "outputs": [],
            "source": [
                "hyperparameters = {\n",
                "    \"alpha\": \"2.35e-05\",\n",
                "    \"lambda\": \"0.25\"\n",
                "}"
            ]
        },
        {
            "cell_type": "markdown",
            "id": "e0cf342a-5544-4694-b6f5-54ac90ec99f5",
            "metadata": {},
            "source": [
                "## Model Training\n",
                "At this point we would normally use a machine learning library to train a model to fit our training dataset. For the purposes of this notebook, our sample model has been defined already in [model.py](model.py)"
            ]
        },
        {
            "cell_type": "markdown",
            "id": "c4d779df-4a4e-429e-8048-d130caf8261f",
            "metadata": {},
            "source": [
                "## Validation\n",
                "Now that we have a model, it's time to test. But first, a note on [model.py](model.py) and it's purpose.\n",
                "\n",
                "[model.py](model.py) implements an `invoke` function:\n",
                "\n",
                "    def invoke(data, content_type_header, accept_header):\n",
                "\n",
                "For this simple model, the `invoke` function gives us a convenient place to implement our algorithm. But when we deploy the model in Domo, this function also acts as an entrypoint to execute our model. If executing the model in a dataflow is desired, the `invoke` function should both accept and return data as a csv string.\n",
                "\n",
                "In order to ensure that your model is ready for deployment, we recommend always testing your model using the `invoke` function. It's usually best practice to keep some of the labeled examples separate from the training data to be used for validation/testing. This allows you to test how well the model generalizes to inputs not seen in the training dataset. Again, to keep things simple, we'll just test using the training dataset."
            ]
        },
        {
            "cell_type": "code",
            "execution_count": 4,
            "id": "7ae5baea-a218-4719-a772-18e0f014dfa6",
            "metadata": {
                "tags": []
            },
            "outputs": [
                {
                    "name": "stdout",
                    "output_type": "stream",
                    "text": [
                        "0\n",
                        "1\n",
                        "0\n",
                        "0\n",
                        "0\n",
                        "\n"
                    ]
                }
            ],
            "source": [
                "# Write training dataset as csv without headers or index column\n",
                "train_csv = train_x.to_csv(header=False, index=False)\n",
                "\n",
                "# Execute invoke function from model.py\n",
                "from model import EndpointHandler\n",
                "predicted_y = EndpointHandler().invoke(train_csv, content_type_header='text/csv', accept_header='text/csv')\n",
                "print(predicted_y)"
            ]
        },
        {
            "cell_type": "markdown",
            "id": "42821199-945a-4193-8c5a-779e56317370",
            "metadata": {
                "tags": []
            },
            "source": [
                "## Metrics\n",
                "\n",
                "During training and validation we can calculate metrics to help us measure model performance. Example metrics are included below as a reference.\n",
                "\n",
                "In addition to metric name and value, standard deviation and timestamp may be included."
            ]
        },
        {
            "cell_type": "code",
            "execution_count": 5,
            "id": "1db5a884-894a-455b-af30-c32d4861d2fe",
            "metadata": {
                "tags": []
            },
            "outputs": [],
            "source": [
                "from domojupyter.ai import Metric\n",
                "from datetime import datetime\n",
                "\n",
                "metrics = {\n",
                "    \"accuracy\": 1.0,\n",
                "    \"recall\": 1.0,\n",
                "    \"precision\": 1.0\n",
                "}\n",
                "now = datetime.now()\n",
                "domo_metrics = {k: Metric(k, v, None, now) for (k,v) in metrics.items()}"
            ]
        },
        {
            "cell_type": "markdown",
            "id": "9eb28e02-e925-4d75-beaa-cba894fd2449",
            "metadata": {
                "tags": []
            },
            "source": [
                "## Model Task\n",
                "\n",
                "Domo let's you specify which task(s) your model is trained to perform, such as TEXT_GENERATION, CLASSIFICATION, or OTHER if you don't see an appropriate ModelTaskType.\n",
                "\n",
                "Model input and output may also be configured as part of the task definition. We'll configure the input and output type as CSV so that we can execute our model using the Model Inference tile in Magic ETL."
            ]
        },
        {
            "cell_type": "code",
            "execution_count": 6,
            "id": "f70db2b5-6b89-41e7-9211-2b2615feaf6a",
            "metadata": {
                "tags": []
            },
            "outputs": [],
            "source": [
                "from domojupyter.ai import ModelTask, ModelTaskType\n",
                "from domojupyter.ai import CSVModelIOConfiguration\n",
                "\n",
                "# Infer the input column names and types from our training dataset\n",
                "input_config = CSVModelIOConfiguration(data_frame=train_x)\n",
                "# Infer the output column names and types from our training label dataset\n",
                "output_config = CSVModelIOConfiguration(data_frame=train_y)\n",
                "task = ModelTask(ModelTaskType.CLASSIFICATION, input_config=input_config, output_config=output_config)"
            ]
        },
        {
            "cell_type": "markdown",
            "id": "5a062735-8360-4b32-84a6-94032470cafb",
            "metadata": {},
            "source": [
                "## Kernel Snapshots\n",
                "\n",
                "Domo's Jupyter Workspaces allow you to customize your environment by installing 3rd party libraries. To ensure that the model hosting environment matches your customized Jupyter environment, a Snapshot is created of the conda environment running the Jupyter kernel. \n",
                "\n",
                "A Kernel Snapshot is automatically created the first time you create a model in a workspace. If one or more Snapshots already exist, the most recent snapshot is used for your model. If your environment has changed and you need to create a new snapshot, you can call `create_model` with `create_snapshot=True`.\n",
                "\n",
                "Creating a new snapshot can take several minutes."
            ]
        },
        {
            "cell_type": "markdown",
            "id": "725c53a8-9914-49d2-a89f-bc9bd1bf00be",
            "metadata": {
                "tags": []
            },
            "source": [
                "## Creating the Model\n",
                "\n",
                "Upload the model to Domo's Model Management interface where we can compare performance with other models and deploy it as an endpoint or dataflow tile when ready.\n",
                "\n",
                "The following information is included:\n",
                "\n",
                "- name - The name of the model\n",
                "- entrypoint - The file containing our `invoke` function that is executed once deployed\n",
                "- files - The serialized model or any other files required to execute our model\n",
                "- training - Hyperparameters and metrics discovered during training\n",
                "- tasks - A list of tasks our model supports"
            ]
        },
        {
            "cell_type": "code",
            "execution_count": 7,
            "id": "41b9e538-4cb6-499c-b49f-74e613494f4c",
            "metadata": {
                "tags": []
            },
            "outputs": [
                {
                    "name": "stdout",
                    "output_type": "stream",
                    "text": [
                        "Creating model\n",
                        "Successfully created model with name: Blue Classification\n"
                    ]
                }
            ],
            "source": [
                "from domojupyter.ai import ModelTrainingInformation\n",
                "import domojupyter.ai.model as ml\n",
                "\n",
                "model_name = 'Blue Classification'\n",
                "entrypoint = 'model.py'\n",
                "extra_files = []\n",
                "training = ModelTrainingInformation(metrics=domo_metrics, hyperparameters=hyperparameters, algorithm=\"Custom\")\n",
                "tasks = [task]\n",
                "\n",
                "ml.create_model(model_name, entrypoint, extra_files, training=training, tasks=tasks)"
            ]
        },
        {
            "cell_type": "code",
            "execution_count": null,
            "id": "7bc2a281-75f7-4d73-9ca6-f569c51ced43",
            "metadata": {},
            "outputs": [],
            "source": []
        }
    ],
    "metadata": {
        "kernelspec": {
            "display_name": "Python 3.9",
            "language": "python",
            "name": "python_3_9"
        },
        "language_info": {
            "codemirror_mode": {
                "name": "ipython",
                "version": 3
            },
            "file_extension": ".py",
            "mimetype": "text/x-python",
            "name": "python",
            "nbconvert_exporter": "python",
            "pygments_lexer": "ipython3",
            "version": "3.9.7"
        },
        "vscode": {
            "interpreter": {
                "hash": "f807f421ec287a1e1b0df12eca6037be486e97ffff9dc209ea10f9fa20a42f88"
            }
        }
    },
    "nbformat": 4,
    "nbformat_minor": 5
}