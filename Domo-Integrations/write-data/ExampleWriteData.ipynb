{
 "cells": [
  {
   "cell_type": "code",
   "execution_count": null,
   "id": "7ff9ee19-c737-4376-b3cb-ac4a86f83764",
   "metadata": {},
   "outputs": [],
   "source": [
    "import domojupyter as domo\n",
    "import pandas as pd\n",
    "\n",
    "data = {'col1': [1, 2], 'col2': [3, 4]}\n",
    "output = pd.DataFrame(data=data)\n",
    "print(output)\n",
    "domo.write_dataframe(output, 'Dataset Name')"
   ]
  }
 ],
 "metadata": {
  "kernelspec": {
   "display_name": "Python 3.9",
   "language": "python",
   "name": "python_3_9"
  },
  "language_info": {
   "codemirror_mode": {
    "name": "ipython",
    "version": 3
   },
   "file_extension": ".py",
   "mimetype": "text/x-python",
   "name": "python",
   "nbconvert_exporter": "python",
   "pygments_lexer": "ipython3",
   "version": "3.9.13"
  }
 },
 "nbformat": 4,
 "nbformat_minor": 5
}
