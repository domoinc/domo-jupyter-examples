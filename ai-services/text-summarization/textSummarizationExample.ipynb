{
 "cells": [
  {
   "cell_type": "markdown",
   "id": "18cd831c-599e-4e0e-9de5-fa712678422b",
   "metadata": {},
   "source": [
    "# Example with no optional parameters"
   ]
  },
  {
   "cell_type": "code",
   "execution_count": null,
   "id": "cc28adf4-5800-42d8-af5f-89ffe57451b9",
   "metadata": {},
   "outputs": [],
   "source": [
    "import domojupyter.ai as ai\n",
    "\n",
    "prompt = \"The text you wish to summarize goes here\"\n",
    "\n",
    "response = ai.summarize(prompt)\n",
    "print(response.choices[0])"
   ]
  },
  {
   "cell_type": "markdown",
   "id": "6693ad3b-361c-418c-b0f6-c49e33fb7e21",
   "metadata": {},
   "source": [
    "# Example using a specific model"
   ]
  },
  {
   "cell_type": "code",
   "execution_count": null,
   "id": "b29a4221-5683-475c-a3c1-b00ee9e10efd",
   "metadata": {},
   "outputs": [],
   "source": [
    "import domojupyter.ai as ai\n",
    "\n",
    "prompt = \"The text you wish to summarize goes here\"\n",
    "model_id = \"your_model_id\"\n",
    "\n",
    "response = ai.summarize(prompt, model=model_id)\n",
    "print(response.choices[0])"
   ]
  },
  {
   "cell_type": "markdown",
   "id": "2c9b03a0-97b4-43ad-8b0b-cb9ce77e54c9",
   "metadata": {},
   "source": [
    "# Example using a prompt_template and parameters"
   ]
  },
  {
   "cell_type": "code",
   "execution_count": null,
   "id": "db498eab-c36b-4f71-93dd-074109f8f48f",
   "metadata": {},
   "outputs": [],
   "source": [
    "import domojupyter.ai as ai\n",
    "\n",
    "prompt = \"The text you wish to summarize goes here\"\n",
    "# The below is an example of a prompt template the Domo default model uses\n",
    "prompt_template = ai.PromptTemplate(\"Write a ${outputWordLength} summary of the following text ${outputStyle}.  ```${input}```  CONCISE SUMMARY: \")\n",
    "prompt_parameters={ \"outputWordLength\": \"100\", \"outputStyle\": \"Bulleted\" }\n",
    "\n",
    "\n",
    "response = ai.summarize(prompt, prompt_template=prompt_template, parameters=prompt_parameters)\n",
    "print(response.choices[0])"
   ]
  },
  {
   "cell_type": "markdown",
   "id": "55eab586-34e3-4beb-a4a1-1e3f114a644c",
   "metadata": {},
   "source": [
    "# Example using Chuncking configuration"
   ]
  },
  {
   "cell_type": "code",
   "execution_count": null,
   "id": "2176ffc9-4f2d-4107-a24b-7e5765cf850d",
   "metadata": {},
   "outputs": [],
   "source": [
    "import domojupyter.ai as ai\n",
    "\n",
    "prompt = \"The text you wish to summarize goes here\"\n",
    "\n",
    "\n",
    "# ChunkingConfiguration(max_chunk_size, chunk_overlap, list_of_separators, separator_type, disallow_intermediate_chunks)\n",
    "chunking_configuration = ai.ChunkingConfiguration(300, 10, [\"\\\\n\",\"\"], \"TEXT\", False)\n",
    "\n",
    "output_style = ai.SummarizationOutputStyle.BULLETED\n",
    "\n",
    "# ai.SizeBoundary(min,max)\n",
    "output_word_length = ai.SizeBoundary(200,400)\n",
    "\n",
    "response = ai.summarize(prompt, chunking_configuration=chunking_configuration, output_style=output_style, output_word_length=output_word_length)\n",
    "print(response.choices[0])"
   ]
  }
 ],
 "metadata": {
  "kernelspec": {
   "display_name": "Python 3.9",
   "language": "python",
   "name": "python_3_9"
  },
  "language_info": {
   "codemirror_mode": {
    "name": "ipython",
    "version": 3
   },
   "file_extension": ".py",
   "mimetype": "text/x-python",
   "name": "python",
   "nbconvert_exporter": "python",
   "pygments_lexer": "ipython3",
   "version": "3.9.13"
  }
 },
 "nbformat": 4,
 "nbformat_minor": 5
}
