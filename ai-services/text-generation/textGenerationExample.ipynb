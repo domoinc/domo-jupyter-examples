{
 "cells": [
  {
   "cell_type": "markdown",
   "id": "c3c9333a-d7aa-445d-9438-e6d2ba74f321",
   "metadata": {},
   "source": [
    "# Prompt Only"
   ]
  },
  {
   "cell_type": "code",
   "execution_count": null,
   "id": "00f56458-d235-4bba-95b9-a0a3855d0ffa",
   "metadata": {},
   "outputs": [],
   "source": [
    "import domojupyter.ai as ai\n",
    "\n",
    "prompt = \"Why is the sky blue?\"\n",
    "\n",
    "response = ai.generate_text(prompt)\n",
    "print(response.choices[0])"
   ]
  },
  {
   "cell_type": "markdown",
   "id": "fd5ec974-c655-4c31-90c3-12ff586f7026",
   "metadata": {},
   "source": [
    "# Use a specific model that is not the Domo default model"
   ]
  },
  {
   "cell_type": "code",
   "execution_count": null,
   "id": "3903de74-de53-44c6-ace2-7adbdaeade46",
   "metadata": {},
   "outputs": [],
   "source": [
    "import domojupyter.ai as ai\n",
    "\n",
    "prompt = \"Why is the sky blue?\"\n",
    "model_id = \"your_id\"\n",
    "\n",
    "response = ai.generate_text(prompt, model=model_id)\n",
    "print(response.choices[0])"
   ]
  },
  {
   "cell_type": "markdown",
   "id": "4f53912b-fa63-456f-9ec1-7084f0b6a29f",
   "metadata": {},
   "source": [
    "# Use a prompt template"
   ]
  },
  {
   "cell_type": "code",
   "execution_count": null,
   "id": "68231ce3-632e-4efe-9fad-d2b653d39b36",
   "metadata": {},
   "outputs": [],
   "source": [
    "import domojupyter.ai as ai\n",
    "\n",
    "prompt = \"Why is the sky blue?\"\n",
    "prompt_template = ai.PromptTemplate(\"${input} Explain in 15 words or less\")\n",
    "\n",
    "response = ai.generate_text(prompt, prompt_template=prompt_template)\n",
    "print(response.choices[0])"
   ]
  },
  {
   "cell_type": "markdown",
   "id": "50ac20b8-6ab0-4f86-88f3-d0dbd92f5cd9",
   "metadata": {},
   "source": [
    "# Use a prompt template and prompt paramaters"
   ]
  },
  {
   "cell_type": "code",
   "execution_count": null,
   "id": "6d67c75e-d115-48a8-b3eb-a7cd6ad2f0fb",
   "metadata": {},
   "outputs": [],
   "source": [
    "import domojupyter.ai as ai\n",
    "\n",
    "prompt = \"Why is the sky blue?\"\n",
    "prompt_template = ai.PromptTemplate(\"${input} Explain in ${num_words} words or less\")\n",
    "prompt_parameters = {\"num_words\":\"15\"}\n",
    "\n",
    "response = ai.generate_text(prompt, prompt_template=prompt_template, parameters=prompt_parameters)\n",
    "print(response.choices[0])"
   ]
  }
 ],
 "metadata": {
  "language_info": {
   "codemirror_mode": {
    "name": "ipython",
    "version": 3
   },
   "file_extension": ".py",
   "mimetype": "text/x-python",
   "name": "python",
   "nbconvert_exporter": "python",
   "pygments_lexer": "ipython3",
   "version": "3.9.13"
  }
 },
 "nbformat": 4,
 "nbformat_minor": 5
}
