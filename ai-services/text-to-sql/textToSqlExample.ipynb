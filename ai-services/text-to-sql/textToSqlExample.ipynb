{
 "cells": [
  {
   "cell_type": "markdown",
   "id": "465a9333-3b7e-4cd6-8a88-bc9389716b9a",
   "metadata": {},
   "source": [
    "# Example using custom defined datasource"
   ]
  },
  {
   "cell_type": "code",
   "execution_count": 11,
   "id": "46ed4074-eab8-4e85-9524-7dc9e9c30cfd",
   "metadata": {},
   "outputs": [],
   "source": [
    "import domojupyter.ai as ai\n",
    "\n",
    "prompt = \"Add all value columns and group by category column\"\n",
    "\n",
    "data_source_schemas = [\n",
    "        ai.DataSourceSchema(\n",
    "            \"Values by Category\",\n",
    "            \"description\",\n",
    "            [\n",
    "                ai.Column(\"Category\", \"STRING\"),\n",
    "                ai.Column(\"Sub_Category\", \"STRING\"),\n",
    "                ai.Column(\"value1\", \"DOUBLE\"),\n",
    "                ai.Column(\"value2\", \"DOUBLE\"),\n",
    "            ]\n",
    "        )       \n",
    "    ]\n",
    "\n",
    "response = ai.text_to_sql(prompt, data_source_schemas=data_source_schemas)\n",
    "print(response.choices[0])"
   ]
  },
  {
   "cell_type": "markdown",
   "id": "004ff308-cd40-494e-9be7-06b7608ee51a",
   "metadata": {},
   "source": [
    "# Example using input dataset to make request"
   ]
  },
  {
   "cell_type": "code",
   "execution_count": null,
   "id": "1fb404e1-a2d7-4e52-8da6-bd95d47173e2",
   "metadata": {},
   "outputs": [],
   "source": [
    "import domojupyter.ai as ai\n",
    "\n",
    "import pandas as pd\n",
    "\n",
    "prompt = \"Add all value columns and group by Year column\"\n",
    "\n",
    "response = ai.text_to_sql(prompt, workspace_data_source_alias='dataset_name')\n",
    "print(response.choices[0])"
   ]
  },
  {
   "cell_type": "markdown",
   "id": "bd90bc23-7e0f-429a-a896-db59a42291bf",
   "metadata": {},
   "source": [
    "# Example using a dataframe to make a request"
   ]
  },
  {
   "cell_type": "code",
   "execution_count": null,
   "id": "27acc159-b9b1-4d2f-b274-f5dff89ba324",
   "metadata": {},
   "outputs": [],
   "source": [
    "import domojupyter.ai as ai\n",
    "import pandas as pd\n",
    "import domojupyter as domo\n",
    "\n",
    "input = domo.read_dataframe('dataset_name', query='SELECT * FROM table')\n",
    "prompt = \"select all columns\"\n",
    "\n",
    "response = ai.text_to_sql(prompt, dataframe=input)\n",
    "print(response.choices[0])"
   ]
  },
  {
   "cell_type": "markdown",
   "id": "21832b5c-ac20-414f-9f82-453c1810c8fb",
   "metadata": {},
   "source": [
    "# Example using a specific model# Use a specific model that is not the Domo default model"
   ]
  },
  {
   "cell_type": "code",
   "execution_count": null,
   "id": "3722d83c-687e-4ab9-bb0f-0be1dfcd2597",
   "metadata": {},
   "outputs": [],
   "source": [
    "import domojupyter.ai as ai\n",
    "\n",
    "import pandas as pd\n",
    "\n",
    "prompt = \"Add all value columns and group by Year column\"\n",
    "model_id = \"your_id\"\n",
    "\n",
    "response = ai.text_to_sql(prompt, model=model_id, workspace_data_source_alias='dataset_name')\n",
    "print(response.choices[0])"
   ]
  },
  {
   "cell_type": "markdown",
   "id": "8ea0c8d9-8ed4-4c15-825a-462de61b5a6d",
   "metadata": {},
   "source": [
    "# Example using a prompt_template"
   ]
  },
  {
   "cell_type": "code",
   "execution_count": null,
   "id": "05f53d51-6517-45c5-b02c-d0f55a4fc628",
   "metadata": {},
   "outputs": [],
   "source": [
    "import domojupyter.ai as ai\n",
    "\n",
    "import pandas as pd\n",
    "\n",
    "prompt = \"Add all value columns and group by Year column\"\n",
    "# Below is an example of the prompt template used by the service by default if no prompt_template is passed to the request\n",
    "prompt_template = ai.PromptTemplate(\"${commentToken} ${dialect} ${dataSourceSchemas} ${commentToken} Generate a query to answer the following: ${commentToken} ${input}\")\n",
    "\n",
    "response = ai.text_to_sql(prompt, workspace_data_source_alias='dataset_name', prompt_template=prompt_template)\n",
    "print(response.choices[0])"
   ]
  }
 ],
 "metadata": {
  "kernelspec": {
   "display_name": "Python 3.9",
   "language": "python",
   "name": "python_3_9"
  },
  "language_info": {
   "codemirror_mode": {
    "name": "ipython",
    "version": 3
   },
   "file_extension": ".py",
   "mimetype": "text/x-python",
   "name": "python",
   "nbconvert_exporter": "python",
   "pygments_lexer": "ipython3",
   "version": "3.9.13"
  }
 },
 "nbformat": 4,
 "nbformat_minor": 5
}
